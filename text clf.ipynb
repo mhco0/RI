{
 "cells": [
  {
   "cell_type": "markdown",
   "id": "bottom-renewal",
   "metadata": {},
   "source": [
    "# The data"
   ]
  },
  {
   "cell_type": "code",
   "execution_count": 1,
   "id": "governmental-hundred",
   "metadata": {},
   "outputs": [],
   "source": [
    "import pandas as pd\n",
    "df = pd.read_csv('db.csv')"
   ]
  },
  {
   "cell_type": "code",
   "execution_count": 2,
   "id": "southern-syndrome",
   "metadata": {},
   "outputs": [],
   "source": [
    "df = df[['1', '2']]"
   ]
  },
  {
   "cell_type": "code",
   "execution_count": 3,
   "id": "funky-gauge",
   "metadata": {},
   "outputs": [
    {
     "data": {
      "text/html": [
       "<div>\n",
       "<style scoped>\n",
       "    .dataframe tbody tr th:only-of-type {\n",
       "        vertical-align: middle;\n",
       "    }\n",
       "\n",
       "    .dataframe tbody tr th {\n",
       "        vertical-align: top;\n",
       "    }\n",
       "\n",
       "    .dataframe thead th {\n",
       "        text-align: right;\n",
       "    }\n",
       "</style>\n",
       "<table border=\"1\" class=\"dataframe\">\n",
       "  <thead>\n",
       "    <tr style=\"text-align: right;\">\n",
       "      <th></th>\n",
       "      <th>1</th>\n",
       "      <th>2</th>\n",
       "    </tr>\n",
       "  </thead>\n",
       "  <tbody>\n",
       "    <tr>\n",
       "      <th>0</th>\n",
       "      <td>&lt;!DOCTYPE html&gt;\\n    &lt;!--[if lte IE 9]&gt;&lt;html c...</td>\n",
       "      <td>negative</td>\n",
       "    </tr>\n",
       "    <tr>\n",
       "      <th>1</th>\n",
       "      <td>\\n  &lt;!DOCTYPE html&gt;\\n  &lt;html lang=\"pt-BR\"&gt;\\n  ...</td>\n",
       "      <td>negative</td>\n",
       "    </tr>\n",
       "    <tr>\n",
       "      <th>2</th>\n",
       "      <td>\\n  &lt;!DOCTYPE html&gt;\\n  &lt;html lang=\"pt-BR\"&gt;\\n  ...</td>\n",
       "      <td>negative</td>\n",
       "    </tr>\n",
       "    <tr>\n",
       "      <th>3</th>\n",
       "      <td>&lt;!DOCTYPE html&gt;\\n    &lt;!--[if lte IE 9]&gt;&lt;html c...</td>\n",
       "      <td>negative</td>\n",
       "    </tr>\n",
       "    <tr>\n",
       "      <th>4</th>\n",
       "      <td>\\n  &lt;!DOCTYPE html&gt;\\n  &lt;html lang=\"pt-BR\"&gt;\\n  ...</td>\n",
       "      <td>negative</td>\n",
       "    </tr>\n",
       "    <tr>\n",
       "      <th>...</th>\n",
       "      <td>...</td>\n",
       "      <td>...</td>\n",
       "    </tr>\n",
       "    <tr>\n",
       "      <th>207</th>\n",
       "      <td>&lt;!DOCTYPE html &gt;\\r\\n&lt;!--versioncontrol 05/10/2...</td>\n",
       "      <td>positive</td>\n",
       "    </tr>\n",
       "    <tr>\n",
       "      <th>208</th>\n",
       "      <td>&lt;!DOCTYPE html &gt;\\r\\n&lt;!--versioncontrol 05/10/2...</td>\n",
       "      <td>positive</td>\n",
       "    </tr>\n",
       "    <tr>\n",
       "      <th>209</th>\n",
       "      <td>&lt;!DOCTYPE html &gt;\\r\\n&lt;!--versioncontrol 05/10/2...</td>\n",
       "      <td>positive</td>\n",
       "    </tr>\n",
       "    <tr>\n",
       "      <th>210</th>\n",
       "      <td>&lt;!DOCTYPE html &gt;\\r\\n&lt;!--versioncontrol 05/10/2...</td>\n",
       "      <td>positive</td>\n",
       "    </tr>\n",
       "    <tr>\n",
       "      <th>211</th>\n",
       "      <td>&lt;!DOCTYPE html &gt;\\r\\n&lt;!--versioncontrol 05/10/2...</td>\n",
       "      <td>positive</td>\n",
       "    </tr>\n",
       "  </tbody>\n",
       "</table>\n",
       "<p>212 rows × 2 columns</p>\n",
       "</div>"
      ],
      "text/plain": [
       "                                                     1         2\n",
       "0    <!DOCTYPE html>\\n    <!--[if lte IE 9]><html c...  negative\n",
       "1    \\n  <!DOCTYPE html>\\n  <html lang=\"pt-BR\">\\n  ...  negative\n",
       "2    \\n  <!DOCTYPE html>\\n  <html lang=\"pt-BR\">\\n  ...  negative\n",
       "3    <!DOCTYPE html>\\n    <!--[if lte IE 9]><html c...  negative\n",
       "4    \\n  <!DOCTYPE html>\\n  <html lang=\"pt-BR\">\\n  ...  negative\n",
       "..                                                 ...       ...\n",
       "207  <!DOCTYPE html >\\r\\n<!--versioncontrol 05/10/2...  positive\n",
       "208  <!DOCTYPE html >\\r\\n<!--versioncontrol 05/10/2...  positive\n",
       "209  <!DOCTYPE html >\\r\\n<!--versioncontrol 05/10/2...  positive\n",
       "210  <!DOCTYPE html >\\r\\n<!--versioncontrol 05/10/2...  positive\n",
       "211  <!DOCTYPE html >\\r\\n<!--versioncontrol 05/10/2...  positive\n",
       "\n",
       "[212 rows x 2 columns]"
      ]
     },
     "execution_count": 3,
     "metadata": {},
     "output_type": "execute_result"
    }
   ],
   "source": [
    "df"
   ]
  },
  {
   "cell_type": "markdown",
   "id": "tired-equality",
   "metadata": {},
   "source": [
    "# Feature creation"
   ]
  },
  {
   "cell_type": "code",
   "execution_count": 4,
   "id": "organic-cambodia",
   "metadata": {},
   "outputs": [],
   "source": [
    "from bs4 import BeautifulSoup"
   ]
  },
  {
   "cell_type": "code",
   "execution_count": 5,
   "id": "certified-wesley",
   "metadata": {},
   "outputs": [],
   "source": [
    "htmls = df['1']"
   ]
  },
  {
   "cell_type": "code",
   "execution_count": 6,
   "id": "fantastic-creation",
   "metadata": {},
   "outputs": [],
   "source": [
    "text = []\n",
    "for html in htmls:\n",
    "    soup = BeautifulSoup(html)\n",
    "    for script in soup([\"script\", \"style\"]):\n",
    "        script.extract()    # rip it out\n",
    "    text.append(soup.get_text())"
   ]
  },
  {
   "cell_type": "code",
   "execution_count": 7,
   "id": "revolutionary-attack",
   "metadata": {},
   "outputs": [],
   "source": [
    "import unidecode\n",
    "\n",
    "text = [unidecode.unidecode(s) for s in text]"
   ]
  },
  {
   "cell_type": "code",
   "execution_count": 8,
   "id": "italic-track",
   "metadata": {},
   "outputs": [],
   "source": [
    "#Substitute point and go to lower case\n",
    "import re\n",
    "\n",
    "text = [re.sub('[^A-Za-z]', ' ', s) for s in text]\n",
    "text = [s.lower() for s in text]"
   ]
  },
  {
   "cell_type": "code",
   "execution_count": 9,
   "id": "large-communist",
   "metadata": {},
   "outputs": [
    {
     "name": "stderr",
     "output_type": "stream",
     "text": [
      "[nltk_data] Downloading package punkt to /home/sergio/nltk_data...\n",
      "[nltk_data]   Package punkt is already up-to-date!\n",
      "[nltk_data] Downloading package stopwords to /home/sergio/nltk_data...\n",
      "[nltk_data]   Package stopwords is already up-to-date!\n"
     ]
    }
   ],
   "source": [
    "#Remove stopwords\n",
    "import nltk\n",
    "nltk.download('punkt')\n",
    "from nltk.tokenize import word_tokenize\n",
    "\n",
    "nltk.download('stopwords')\n",
    "from nltk.corpus import stopwords"
   ]
  },
  {
   "cell_type": "code",
   "execution_count": 10,
   "id": "facial-subcommittee",
   "metadata": {},
   "outputs": [],
   "source": [
    "data = []\n",
    "for s in text:\n",
    "    tokenized_text = word_tokenize(s)\n",
    "    for word in tokenized_text:\n",
    "        if word in stopwords.words('portuguese'):\n",
    "            tokenized_text.remove(word)\n",
    "        \n",
    "    s_text = \" \".join(tokenized_text)\n",
    "    data.append(s_text)"
   ]
  },
  {
   "cell_type": "code",
   "execution_count": 11,
   "id": "destroyed-witch",
   "metadata": {},
   "outputs": [],
   "source": [
    "#Bag of words\n",
    "from sklearn.feature_extraction.text import CountVectorizer\n",
    "from sklearn.feature_extraction.text import TfidfVectorizer as tf_idf"
   ]
  },
  {
   "cell_type": "code",
   "execution_count": 12,
   "id": "small-opposition",
   "metadata": {},
   "outputs": [],
   "source": [
    "#Pega todas as palavras em cada SMS e depois conta o número de ocorrencias de cada uma\n",
    "#Depois selecionamos as palavras que aparecem mais que outras. Exemplo: selecionar as primeiras X palavras\n",
    "matrix = tf_idf(max_features=500)\n",
    "X = matrix.fit_transform(data).toarray()\n",
    "y = df.iloc[:, 1]"
   ]
  },
  {
   "cell_type": "code",
   "execution_count": 13,
   "id": "forced-passage",
   "metadata": {},
   "outputs": [],
   "source": [
    "bow_df = pd.DataFrame(X, columns = matrix.get_feature_names())"
   ]
  },
  {
   "cell_type": "code",
   "execution_count": 14,
   "id": "enclosed-crawford",
   "metadata": {},
   "outputs": [
    {
     "data": {
      "text/html": [
       "<div>\n",
       "<style scoped>\n",
       "    .dataframe tbody tr th:only-of-type {\n",
       "        vertical-align: middle;\n",
       "    }\n",
       "\n",
       "    .dataframe tbody tr th {\n",
       "        vertical-align: top;\n",
       "    }\n",
       "\n",
       "    .dataframe thead th {\n",
       "        text-align: right;\n",
       "    }\n",
       "</style>\n",
       "<table border=\"1\" class=\"dataframe\">\n",
       "  <thead>\n",
       "    <tr style=\"text-align: right;\">\n",
       "      <th></th>\n",
       "      <th>abrir</th>\n",
       "      <th>acesse</th>\n",
       "      <th>acessibilidade</th>\n",
       "      <th>acesso</th>\n",
       "      <th>acessorios</th>\n",
       "      <th>acima</th>\n",
       "      <th>add</th>\n",
       "      <th>adicionar</th>\n",
       "      <th>administracao</th>\n",
       "      <th>agora</th>\n",
       "      <th>...</th>\n",
       "      <th>vistaou</th>\n",
       "      <th>vitaminas</th>\n",
       "      <th>viu</th>\n",
       "      <th>voce</th>\n",
       "      <th>vol</th>\n",
       "      <th>volta</th>\n",
       "      <th>voltar</th>\n",
       "      <th>warningicone</th>\n",
       "      <th>www</th>\n",
       "      <th>xbox</th>\n",
       "    </tr>\n",
       "  </thead>\n",
       "  <tbody>\n",
       "    <tr>\n",
       "      <th>0</th>\n",
       "      <td>0.065999</td>\n",
       "      <td>0.028100</td>\n",
       "      <td>0.063310</td>\n",
       "      <td>0.0</td>\n",
       "      <td>0.0</td>\n",
       "      <td>0.152182</td>\n",
       "      <td>0.0</td>\n",
       "      <td>0.0</td>\n",
       "      <td>0.0</td>\n",
       "      <td>0.000000</td>\n",
       "      <td>...</td>\n",
       "      <td>0.0</td>\n",
       "      <td>0.0</td>\n",
       "      <td>0.000000</td>\n",
       "      <td>0.014180</td>\n",
       "      <td>0.0</td>\n",
       "      <td>0.000000</td>\n",
       "      <td>0.00000</td>\n",
       "      <td>0.070301</td>\n",
       "      <td>0.13672</td>\n",
       "      <td>0.000000</td>\n",
       "    </tr>\n",
       "    <tr>\n",
       "      <th>1</th>\n",
       "      <td>0.120682</td>\n",
       "      <td>0.051381</td>\n",
       "      <td>0.115765</td>\n",
       "      <td>0.0</td>\n",
       "      <td>0.0</td>\n",
       "      <td>0.000000</td>\n",
       "      <td>0.0</td>\n",
       "      <td>0.0</td>\n",
       "      <td>0.0</td>\n",
       "      <td>0.000000</td>\n",
       "      <td>...</td>\n",
       "      <td>0.0</td>\n",
       "      <td>0.0</td>\n",
       "      <td>0.000000</td>\n",
       "      <td>0.077786</td>\n",
       "      <td>0.0</td>\n",
       "      <td>0.000000</td>\n",
       "      <td>0.00000</td>\n",
       "      <td>0.128548</td>\n",
       "      <td>0.00000</td>\n",
       "      <td>0.000000</td>\n",
       "    </tr>\n",
       "    <tr>\n",
       "      <th>2</th>\n",
       "      <td>0.096016</td>\n",
       "      <td>0.040880</td>\n",
       "      <td>0.092104</td>\n",
       "      <td>0.0</td>\n",
       "      <td>0.0</td>\n",
       "      <td>0.000000</td>\n",
       "      <td>0.0</td>\n",
       "      <td>0.0</td>\n",
       "      <td>0.0</td>\n",
       "      <td>0.000000</td>\n",
       "      <td>...</td>\n",
       "      <td>0.0</td>\n",
       "      <td>0.0</td>\n",
       "      <td>0.000000</td>\n",
       "      <td>0.020629</td>\n",
       "      <td>0.0</td>\n",
       "      <td>0.000000</td>\n",
       "      <td>0.04088</td>\n",
       "      <td>0.102274</td>\n",
       "      <td>0.00000</td>\n",
       "      <td>0.000000</td>\n",
       "    </tr>\n",
       "    <tr>\n",
       "      <th>3</th>\n",
       "      <td>0.019248</td>\n",
       "      <td>0.005463</td>\n",
       "      <td>0.012309</td>\n",
       "      <td>0.0</td>\n",
       "      <td>0.0</td>\n",
       "      <td>0.000000</td>\n",
       "      <td>0.0</td>\n",
       "      <td>0.0</td>\n",
       "      <td>0.0</td>\n",
       "      <td>0.000000</td>\n",
       "      <td>...</td>\n",
       "      <td>0.0</td>\n",
       "      <td>0.0</td>\n",
       "      <td>0.000000</td>\n",
       "      <td>0.005514</td>\n",
       "      <td>0.0</td>\n",
       "      <td>0.006256</td>\n",
       "      <td>0.00000</td>\n",
       "      <td>0.013669</td>\n",
       "      <td>0.00000</td>\n",
       "      <td>0.000000</td>\n",
       "    </tr>\n",
       "    <tr>\n",
       "      <th>4</th>\n",
       "      <td>0.091353</td>\n",
       "      <td>0.038894</td>\n",
       "      <td>0.087631</td>\n",
       "      <td>0.0</td>\n",
       "      <td>0.0</td>\n",
       "      <td>0.000000</td>\n",
       "      <td>0.0</td>\n",
       "      <td>0.0</td>\n",
       "      <td>0.0</td>\n",
       "      <td>0.000000</td>\n",
       "      <td>...</td>\n",
       "      <td>0.0</td>\n",
       "      <td>0.0</td>\n",
       "      <td>0.000000</td>\n",
       "      <td>0.039255</td>\n",
       "      <td>0.0</td>\n",
       "      <td>0.000000</td>\n",
       "      <td>0.00000</td>\n",
       "      <td>0.097308</td>\n",
       "      <td>0.00000</td>\n",
       "      <td>0.000000</td>\n",
       "    </tr>\n",
       "    <tr>\n",
       "      <th>...</th>\n",
       "      <td>...</td>\n",
       "      <td>...</td>\n",
       "      <td>...</td>\n",
       "      <td>...</td>\n",
       "      <td>...</td>\n",
       "      <td>...</td>\n",
       "      <td>...</td>\n",
       "      <td>...</td>\n",
       "      <td>...</td>\n",
       "      <td>...</td>\n",
       "      <td>...</td>\n",
       "      <td>...</td>\n",
       "      <td>...</td>\n",
       "      <td>...</td>\n",
       "      <td>...</td>\n",
       "      <td>...</td>\n",
       "      <td>...</td>\n",
       "      <td>...</td>\n",
       "      <td>...</td>\n",
       "      <td>...</td>\n",
       "      <td>...</td>\n",
       "    </tr>\n",
       "    <tr>\n",
       "      <th>207</th>\n",
       "      <td>0.040697</td>\n",
       "      <td>0.000000</td>\n",
       "      <td>0.000000</td>\n",
       "      <td>0.0</td>\n",
       "      <td>0.0</td>\n",
       "      <td>0.000000</td>\n",
       "      <td>0.0</td>\n",
       "      <td>0.0</td>\n",
       "      <td>0.0</td>\n",
       "      <td>0.032212</td>\n",
       "      <td>...</td>\n",
       "      <td>0.0</td>\n",
       "      <td>0.0</td>\n",
       "      <td>0.039357</td>\n",
       "      <td>0.104927</td>\n",
       "      <td>0.0</td>\n",
       "      <td>0.000000</td>\n",
       "      <td>0.00000</td>\n",
       "      <td>0.000000</td>\n",
       "      <td>0.00000</td>\n",
       "      <td>0.122092</td>\n",
       "    </tr>\n",
       "    <tr>\n",
       "      <th>208</th>\n",
       "      <td>0.000000</td>\n",
       "      <td>0.000000</td>\n",
       "      <td>0.000000</td>\n",
       "      <td>0.0</td>\n",
       "      <td>0.0</td>\n",
       "      <td>0.000000</td>\n",
       "      <td>0.0</td>\n",
       "      <td>0.0</td>\n",
       "      <td>0.0</td>\n",
       "      <td>0.073119</td>\n",
       "      <td>...</td>\n",
       "      <td>0.0</td>\n",
       "      <td>0.0</td>\n",
       "      <td>0.053604</td>\n",
       "      <td>0.047636</td>\n",
       "      <td>0.0</td>\n",
       "      <td>0.036031</td>\n",
       "      <td>0.00000</td>\n",
       "      <td>0.000000</td>\n",
       "      <td>0.00000</td>\n",
       "      <td>0.055429</td>\n",
       "    </tr>\n",
       "    <tr>\n",
       "      <th>209</th>\n",
       "      <td>0.000000</td>\n",
       "      <td>0.000000</td>\n",
       "      <td>0.000000</td>\n",
       "      <td>0.0</td>\n",
       "      <td>0.0</td>\n",
       "      <td>0.000000</td>\n",
       "      <td>0.0</td>\n",
       "      <td>0.0</td>\n",
       "      <td>0.0</td>\n",
       "      <td>0.013384</td>\n",
       "      <td>...</td>\n",
       "      <td>0.0</td>\n",
       "      <td>0.0</td>\n",
       "      <td>0.016354</td>\n",
       "      <td>0.065398</td>\n",
       "      <td>0.0</td>\n",
       "      <td>0.016488</td>\n",
       "      <td>0.00000</td>\n",
       "      <td>0.000000</td>\n",
       "      <td>0.00000</td>\n",
       "      <td>0.050731</td>\n",
       "    </tr>\n",
       "    <tr>\n",
       "      <th>210</th>\n",
       "      <td>0.000000</td>\n",
       "      <td>0.000000</td>\n",
       "      <td>0.000000</td>\n",
       "      <td>0.0</td>\n",
       "      <td>0.0</td>\n",
       "      <td>0.000000</td>\n",
       "      <td>0.0</td>\n",
       "      <td>0.0</td>\n",
       "      <td>0.0</td>\n",
       "      <td>0.076571</td>\n",
       "      <td>...</td>\n",
       "      <td>0.0</td>\n",
       "      <td>0.0</td>\n",
       "      <td>0.037423</td>\n",
       "      <td>0.041571</td>\n",
       "      <td>0.0</td>\n",
       "      <td>0.113195</td>\n",
       "      <td>0.00000</td>\n",
       "      <td>0.000000</td>\n",
       "      <td>0.00000</td>\n",
       "      <td>0.058045</td>\n",
       "    </tr>\n",
       "    <tr>\n",
       "      <th>211</th>\n",
       "      <td>0.000000</td>\n",
       "      <td>0.000000</td>\n",
       "      <td>0.000000</td>\n",
       "      <td>0.0</td>\n",
       "      <td>0.0</td>\n",
       "      <td>0.029177</td>\n",
       "      <td>0.0</td>\n",
       "      <td>0.0</td>\n",
       "      <td>0.0</td>\n",
       "      <td>0.012519</td>\n",
       "      <td>...</td>\n",
       "      <td>0.0</td>\n",
       "      <td>0.0</td>\n",
       "      <td>0.015296</td>\n",
       "      <td>0.163122</td>\n",
       "      <td>0.0</td>\n",
       "      <td>0.015423</td>\n",
       "      <td>0.00000</td>\n",
       "      <td>0.000000</td>\n",
       "      <td>0.00000</td>\n",
       "      <td>0.047452</td>\n",
       "    </tr>\n",
       "  </tbody>\n",
       "</table>\n",
       "<p>212 rows × 500 columns</p>\n",
       "</div>"
      ],
      "text/plain": [
       "        abrir    acesse  acessibilidade  acesso  acessorios     acima  add  \\\n",
       "0    0.065999  0.028100        0.063310     0.0         0.0  0.152182  0.0   \n",
       "1    0.120682  0.051381        0.115765     0.0         0.0  0.000000  0.0   \n",
       "2    0.096016  0.040880        0.092104     0.0         0.0  0.000000  0.0   \n",
       "3    0.019248  0.005463        0.012309     0.0         0.0  0.000000  0.0   \n",
       "4    0.091353  0.038894        0.087631     0.0         0.0  0.000000  0.0   \n",
       "..        ...       ...             ...     ...         ...       ...  ...   \n",
       "207  0.040697  0.000000        0.000000     0.0         0.0  0.000000  0.0   \n",
       "208  0.000000  0.000000        0.000000     0.0         0.0  0.000000  0.0   \n",
       "209  0.000000  0.000000        0.000000     0.0         0.0  0.000000  0.0   \n",
       "210  0.000000  0.000000        0.000000     0.0         0.0  0.000000  0.0   \n",
       "211  0.000000  0.000000        0.000000     0.0         0.0  0.029177  0.0   \n",
       "\n",
       "     adicionar  administracao     agora  ...  vistaou  vitaminas       viu  \\\n",
       "0          0.0            0.0  0.000000  ...      0.0        0.0  0.000000   \n",
       "1          0.0            0.0  0.000000  ...      0.0        0.0  0.000000   \n",
       "2          0.0            0.0  0.000000  ...      0.0        0.0  0.000000   \n",
       "3          0.0            0.0  0.000000  ...      0.0        0.0  0.000000   \n",
       "4          0.0            0.0  0.000000  ...      0.0        0.0  0.000000   \n",
       "..         ...            ...       ...  ...      ...        ...       ...   \n",
       "207        0.0            0.0  0.032212  ...      0.0        0.0  0.039357   \n",
       "208        0.0            0.0  0.073119  ...      0.0        0.0  0.053604   \n",
       "209        0.0            0.0  0.013384  ...      0.0        0.0  0.016354   \n",
       "210        0.0            0.0  0.076571  ...      0.0        0.0  0.037423   \n",
       "211        0.0            0.0  0.012519  ...      0.0        0.0  0.015296   \n",
       "\n",
       "         voce  vol     volta   voltar  warningicone      www      xbox  \n",
       "0    0.014180  0.0  0.000000  0.00000      0.070301  0.13672  0.000000  \n",
       "1    0.077786  0.0  0.000000  0.00000      0.128548  0.00000  0.000000  \n",
       "2    0.020629  0.0  0.000000  0.04088      0.102274  0.00000  0.000000  \n",
       "3    0.005514  0.0  0.006256  0.00000      0.013669  0.00000  0.000000  \n",
       "4    0.039255  0.0  0.000000  0.00000      0.097308  0.00000  0.000000  \n",
       "..        ...  ...       ...      ...           ...      ...       ...  \n",
       "207  0.104927  0.0  0.000000  0.00000      0.000000  0.00000  0.122092  \n",
       "208  0.047636  0.0  0.036031  0.00000      0.000000  0.00000  0.055429  \n",
       "209  0.065398  0.0  0.016488  0.00000      0.000000  0.00000  0.050731  \n",
       "210  0.041571  0.0  0.113195  0.00000      0.000000  0.00000  0.058045  \n",
       "211  0.163122  0.0  0.015423  0.00000      0.000000  0.00000  0.047452  \n",
       "\n",
       "[212 rows x 500 columns]"
      ]
     },
     "execution_count": 14,
     "metadata": {},
     "output_type": "execute_result"
    }
   ],
   "source": [
    "bow_df"
   ]
  },
  {
   "cell_type": "code",
   "execution_count": 15,
   "id": "sunrise-aggregate",
   "metadata": {},
   "outputs": [],
   "source": [
    "import pickle"
   ]
  },
  {
   "cell_type": "code",
   "execution_count": 18,
   "id": "rough-peninsula",
   "metadata": {},
   "outputs": [],
   "source": [
    "pickle.dump(matrix, open('bow.pkl', 'wb'))"
   ]
  },
  {
   "cell_type": "markdown",
   "id": "heated-bubble",
   "metadata": {},
   "source": [
    "# Model"
   ]
  },
  {
   "cell_type": "code",
   "execution_count": 25,
   "id": "representative-marks",
   "metadata": {},
   "outputs": [],
   "source": [
    "from sklearn import preprocessing\n",
    "\n",
    "scaler = preprocessing.StandardScaler()"
   ]
  },
  {
   "cell_type": "markdown",
   "id": "frozen-cleaning",
   "metadata": {},
   "source": [
    "## First model -> GaussianNB\n",
    "\n",
    "I'll Fine tune var_smoothing parameter. var_smoothing parameter is responsible to add a user-defined value to distribution variance in order to smooth or wide the gaussian curver that will be fit."
   ]
  },
  {
   "cell_type": "code",
   "execution_count": 26,
   "id": "celtic-wiring",
   "metadata": {},
   "outputs": [],
   "source": [
    "from sklearn.model_selection import train_test_split\n",
    "X_train, X_test, y_train, y_test = train_test_split(X, y)"
   ]
  },
  {
   "cell_type": "code",
   "execution_count": 27,
   "id": "reliable-handbook",
   "metadata": {},
   "outputs": [],
   "source": [
    "X_train_std = scaler.fit_transform(X_train)\n",
    "X_test_std = scaler.transform(X_test)"
   ]
  },
  {
   "cell_type": "code",
   "execution_count": 28,
   "id": "third-watch",
   "metadata": {},
   "outputs": [
    {
     "name": "stdout",
     "output_type": "stream",
     "text": [
      "Training time: 0.14197921752929688s\n"
     ]
    }
   ],
   "source": [
    "# Primeiro Modelo: Naive Bayes Classifier\n",
    "import time\n",
    "from sklearn.naive_bayes import GaussianNB\n",
    "from sklearn.model_selection import GridSearchCV\n",
    "import numpy as np\n",
    "\n",
    "gnb = GaussianNB()\n",
    "params = {'var_smoothing': np.logspace(0,-9, num=10)}\n",
    "\n",
    "gs = GridSearchCV(estimator=gnb, param_grid=params)\n",
    "start = time.time()\n",
    "gs.fit(X_train_std, y_train)\n",
    "stop = time.time()\n",
    "print(f\"Training time: {stop - start}s\")\n",
    "tt_gnb = stop - start"
   ]
  },
  {
   "cell_type": "code",
   "execution_count": 29,
   "id": "included-private",
   "metadata": {},
   "outputs": [
    {
     "data": {
      "text/plain": [
       "GaussianNB(var_smoothing=1.0)"
      ]
     },
     "execution_count": 29,
     "metadata": {},
     "output_type": "execute_result"
    }
   ],
   "source": [
    "gnb = gs.best_estimator_\n",
    "gnb.fit(X_train_std, y_train)"
   ]
  },
  {
   "cell_type": "markdown",
   "id": "leading-niger",
   "metadata": {},
   "source": [
    "Now, I'll evaluate the model -> ROC/AUC score and Confusion Matrix"
   ]
  },
  {
   "cell_type": "code",
   "execution_count": 30,
   "id": "square-touch",
   "metadata": {},
   "outputs": [],
   "source": [
    "from sklearn.metrics import confusion_matrix, plot_confusion_matrix\n",
    "from sklearn.metrics import accuracy_score, recall_score, precision_score, f1_score\n",
    "from sklearn.metrics import roc_auc_score, average_precision_score"
   ]
  },
  {
   "cell_type": "code",
   "execution_count": 31,
   "id": "clear-premises",
   "metadata": {},
   "outputs": [],
   "source": [
    "y_pred_class = gnb.predict(X_test_std)"
   ]
  },
  {
   "cell_type": "code",
   "execution_count": 32,
   "id": "greater-skill",
   "metadata": {},
   "outputs": [
    {
     "name": "stdout",
     "output_type": "stream",
     "text": [
      "f1 score: 0.8085106382978724\n",
      "precision: 0.95\n",
      "recall: 0.7037037037037037\n",
      "accuracy 0.8301886792452831\n"
     ]
    }
   ],
   "source": [
    "accuracy = accuracy_score(y_test, y_pred_class)\n",
    "recall = recall_score(y_test, y_pred_class, average='binary', pos_label='negative')\n",
    "precision = precision_score(y_test, y_pred_class,  average='binary', pos_label='negative')\n",
    "f1 = f1_score(y_test, y_pred_class,  average='binary', pos_label='negative')\n",
    "acc_gnb = (accuracy, recall, precision, f1)\n",
    "\n",
    "print('f1 score:', f1)\n",
    "print('precision:', precision)\n",
    "print('recall:', recall)\n",
    "print('accuracy', accuracy)"
   ]
  },
  {
   "cell_type": "code",
   "execution_count": 33,
   "id": "aggregate-composition",
   "metadata": {},
   "outputs": [
    {
     "data": {
      "text/plain": [
       "<AxesSubplot:>"
      ]
     },
     "execution_count": 33,
     "metadata": {},
     "output_type": "execute_result"
    },
    {
     "data": {
      "image/png": "[encoded data removed]",
      "text/plain": [
       "<Figure size 720x504 with 2 Axes>"
      ]
     },
     "metadata": {
      "needs_background": "light"
     },
     "output_type": "display_data"
    }
   ],
   "source": [
    "import matplotlib.pyplot as plt\n",
    "import seaborn as sns\n",
    "df_cm = pd.DataFrame(confusion_matrix(y_test, y_pred_class), index = [0,1],columns = [0,1])\n",
    "\n",
    "\n",
    "# TN FP\n",
    "# FN TP\n",
    "plt.figure(figsize = (10,7))\n",
    "sns.heatmap(df_cm, annot=True)"
   ]
  },
  {
   "cell_type": "markdown",
   "id": "compound-stuff",
   "metadata": {},
   "source": [
    "## Second model -> SVM \n",
    "\n",
    "I'll Fine tune three parameter of SVM:\n",
    "\n",
    "- Kernels: transform a low dimension input space in higher dimensional input space\n",
    "- C: misclassification parameter. Tells SVM how much error is acceptable.\n",
    "- Gamma: defines how far points influence in line separation."
   ]
  },
  {
   "cell_type": "code",
   "execution_count": 77,
   "id": "provincial-dating",
   "metadata": {},
   "outputs": [
    {
     "name": "stdout",
     "output_type": "stream",
     "text": [
      "Training time: 1.3276112079620361s\n"
     ]
    }
   ],
   "source": [
    "from sklearn.svm import SVC  \n",
    "svm = SVC()\n",
    "params = {'C': [0.1,1, 10, 100], 'gamma': [1,0.1,0.01,0.001],'kernel': ['rbf', 'poly', 'sigmoid']}\n",
    "\n",
    "gs = GridSearchCV(estimator=svm, param_grid=params)\n",
    "start = time.time()\n",
    "gs.fit(X_train_std, y_train)\n",
    "stop = time.time()\n",
    "print(f\"Training time: {stop - start}s\")\n",
    "tt_svm = stop-start"
   ]
  },
  {
   "cell_type": "code",
   "execution_count": 78,
   "id": "complete-heating",
   "metadata": {},
   "outputs": [
    {
     "data": {
      "text/plain": [
       "SVC(C=10, gamma=0.001)"
      ]
     },
     "execution_count": 78,
     "metadata": {},
     "output_type": "execute_result"
    }
   ],
   "source": [
    "svm = gs.best_estimator_\n",
    "svm.fit(X_train_std, y_train)"
   ]
  },
  {
   "cell_type": "code",
   "execution_count": 79,
   "id": "particular-broadcast",
   "metadata": {},
   "outputs": [],
   "source": [
    "y_pred_class = svm.predict(X_test_std)"
   ]
  },
  {
   "cell_type": "code",
   "execution_count": 80,
   "id": "objective-skating",
   "metadata": {},
   "outputs": [
    {
     "name": "stdout",
     "output_type": "stream",
     "text": [
      "f1 score: 0.9199999999999999\n",
      "precision: 0.9583333333333334\n",
      "recall: 0.8846153846153846\n",
      "accuracy 0.9245283018867925\n"
     ]
    }
   ],
   "source": [
    "accuracy = accuracy_score(y_test, y_pred_class)\n",
    "recall = recall_score(y_test, y_pred_class, average='binary', pos_label='negative')\n",
    "precision = precision_score(y_test, y_pred_class,  average='binary', pos_label='negative')\n",
    "f1 = f1_score(y_test, y_pred_class,  average='binary', pos_label='negative')\n",
    "acc_svm = (accuracy, recall, precision, f1)\n",
    "\n",
    "print('f1 score:', f1)\n",
    "print('precision:', precision)\n",
    "print('recall:', recall)\n",
    "print('accuracy', accuracy)"
   ]
  },
  {
   "cell_type": "code",
   "execution_count": 81,
   "id": "different-effect",
   "metadata": {},
   "outputs": [
    {
     "data": {
      "text/plain": [
       "<AxesSubplot:>"
      ]
     },
     "execution_count": 81,
     "metadata": {},
     "output_type": "execute_result"
    },
    {
     "data": {
      "image/png": "[encoded data removed]",
      "text/plain": [
       "<Figure size 720x504 with 2 Axes>"
      ]
     },
     "metadata": {
      "needs_background": "light"
     },
     "output_type": "display_data"
    }
   ],
   "source": [
    "df_cm = pd.DataFrame(confusion_matrix(y_test, y_pred_class), index = [0,1],columns = [0,1])\n",
    "\n",
    "\n",
    "# TN FP\n",
    "# FN TP\n",
    "plt.figure(figsize = (10,7))\n",
    "sns.heatmap(df_cm, annot=True)"
   ]
  },
  {
   "cell_type": "markdown",
   "id": "bacterial-tuition",
   "metadata": {},
   "source": [
    "## Third model -> Random Forest\n",
    "\n",
    "I'll Fine tune four parameters of RF:\n",
    "\n",
    "- n_estimators: number of trees in the forest\n",
    "- max_features: number of features considered to split a node\n",
    "- max_depth: max depth of each tree\n",
    "- min_samples_leaf: min number of data points in leaf node"
   ]
  },
  {
   "cell_type": "code",
   "execution_count": 34,
   "id": "contrary-philosophy",
   "metadata": {},
   "outputs": [
    {
     "name": "stdout",
     "output_type": "stream",
     "text": [
      "Training time: 216.46613144874573s\n"
     ]
    }
   ],
   "source": [
    "from sklearn.ensemble import RandomForestClassifier\n",
    "\n",
    "rf = RandomForestClassifier()\n",
    "\n",
    "params= {\n",
    "    'max_depth': [80, 90, 100, 110],\n",
    "    'max_features': [2, 3],\n",
    "    'min_samples_leaf': [3, 4, 5],\n",
    "    'n_estimators': [100, 200, 300, 1000]\n",
    "}\n",
    "\n",
    "gs = GridSearchCV(estimator=rf, param_grid=params)\n",
    "start = time.time()\n",
    "gs.fit(X_train, y_train)\n",
    "stop = time.time()\n",
    "print(f\"Training time: {stop - start}s\")\n",
    "tt_rf = stop-start"
   ]
  },
  {
   "cell_type": "code",
   "execution_count": 35,
   "id": "played-latex",
   "metadata": {},
   "outputs": [
    {
     "data": {
      "text/plain": [
       "RandomForestClassifier(max_depth=80, max_features=3, min_samples_leaf=5)"
      ]
     },
     "execution_count": 35,
     "metadata": {},
     "output_type": "execute_result"
    }
   ],
   "source": [
    "rf = gs.best_estimator_\n",
    "rf.fit(X_train, y_train)"
   ]
  },
  {
   "cell_type": "code",
   "execution_count": 36,
   "id": "responsible-metallic",
   "metadata": {},
   "outputs": [],
   "source": [
    "y_pred_class = rf.predict(X_test)"
   ]
  },
  {
   "cell_type": "code",
   "execution_count": 37,
   "id": "minimal-rachel",
   "metadata": {},
   "outputs": [
    {
     "name": "stdout",
     "output_type": "stream",
     "text": [
      "f1 score: 0.923076923076923\n",
      "precision: 0.96\n",
      "recall: 0.8888888888888888\n",
      "accuracy 0.9245283018867925\n"
     ]
    }
   ],
   "source": [
    "accuracy = accuracy_score(y_test, y_pred_class)\n",
    "recall = recall_score(y_test, y_pred_class, average='binary', pos_label='negative')\n",
    "precision = precision_score(y_test, y_pred_class,  average='binary', pos_label='negative')\n",
    "f1 = f1_score(y_test, y_pred_class,  average='binary', pos_label='negative')\n",
    "acc_rf = (accuracy, recall, precision, f1)\n",
    "\n",
    "print('f1 score:', f1)\n",
    "print('precision:', precision)\n",
    "print('recall:', recall)\n",
    "print('accuracy', accuracy)"
   ]
  },
  {
   "cell_type": "code",
   "execution_count": 38,
   "id": "complimentary-folks",
   "metadata": {},
   "outputs": [
    {
     "data": {
      "text/plain": [
       "<AxesSubplot:>"
      ]
     },
     "execution_count": 38,
     "metadata": {},
     "output_type": "execute_result"
    },
    {
     "data": {
      "image/png": "[encoded data removed]",
      "text/plain": [
       "<Figure size 720x504 with 2 Axes>"
      ]
     },
     "metadata": {
      "needs_background": "light"
     },
     "output_type": "display_data"
    }
   ],
   "source": [
    "df_cm = pd.DataFrame(confusion_matrix(y_test, y_pred_class), index = [0,1],columns = [0,1])\n",
    "\n",
    "\n",
    "# TN FP\n",
    "# FN TP\n",
    "plt.figure(figsize = (10,7))\n",
    "sns.heatmap(df_cm, annot=True)"
   ]
  },
  {
   "cell_type": "code",
   "execution_count": 40,
   "id": "internal-nelson",
   "metadata": {},
   "outputs": [],
   "source": [
    "pickle.dump(rf, open('model.pkl', 'wb'))"
   ]
  },
  {
   "cell_type": "markdown",
   "id": "ordered-lying",
   "metadata": {},
   "source": [
    "## Fourth model -> Log Reg\n",
    "\n",
    "I'll Fine tune C parameter of logreg, which is the one that controls regularization. Lower C, more regularization we add to the model.\n"
   ]
  },
  {
   "cell_type": "code",
   "execution_count": 87,
   "id": "binary-economics",
   "metadata": {},
   "outputs": [
    {
     "name": "stdout",
     "output_type": "stream",
     "text": [
      "Training time: 0.3800802230834961s\n"
     ]
    }
   ],
   "source": [
    "from sklearn.linear_model import LogisticRegression\n",
    "\n",
    "logreg = LogisticRegression(max_iter=100000)\n",
    "\n",
    "params = {'C': [0.001, 0.01, 0.1, 1, 10, 100, 1000] }\n",
    "\n",
    "gs = GridSearchCV(estimator=logreg, param_grid=params)\n",
    "start = time.time()\n",
    "gs.fit(X_train_std, y_train)\n",
    "stop = time.time()\n",
    "print(f\"Training time: {stop - start}s\")\n",
    "tt_lr = stop-start"
   ]
  },
  {
   "cell_type": "code",
   "execution_count": 88,
   "id": "scenic-sphere",
   "metadata": {},
   "outputs": [
    {
     "data": {
      "text/plain": [
       "LogisticRegression(C=1000, max_iter=100000)"
      ]
     },
     "execution_count": 88,
     "metadata": {},
     "output_type": "execute_result"
    }
   ],
   "source": [
    "logreg = gs.best_estimator_\n",
    "logreg.fit(X_train_std, y_train)"
   ]
  },
  {
   "cell_type": "code",
   "execution_count": 89,
   "id": "romance-leisure",
   "metadata": {},
   "outputs": [],
   "source": [
    "y_pred_class = logreg.predict(X_test_std)"
   ]
  },
  {
   "cell_type": "code",
   "execution_count": 90,
   "id": "experienced-nerve",
   "metadata": {},
   "outputs": [
    {
     "name": "stdout",
     "output_type": "stream",
     "text": [
      "f1 score: 0.875\n",
      "precision: 0.9545454545454546\n",
      "recall: 0.8076923076923077\n",
      "accuracy 0.8867924528301887\n"
     ]
    }
   ],
   "source": [
    "accuracy = accuracy_score(y_test, y_pred_class)\n",
    "recall = recall_score(y_test, y_pred_class, average='binary', pos_label='negative')\n",
    "precision = precision_score(y_test, y_pred_class,  average='binary', pos_label='negative')\n",
    "f1 = f1_score(y_test, y_pred_class,  average='binary', pos_label='negative')\n",
    "acc_lr = (accuracy, recall, precision, f1)\n",
    "\n",
    "print('f1 score:', f1)\n",
    "print('precision:', precision)\n",
    "print('recall:', recall)\n",
    "print('accuracy', accuracy)"
   ]
  },
  {
   "cell_type": "code",
   "execution_count": 91,
   "id": "portable-insertion",
   "metadata": {},
   "outputs": [
    {
     "data": {
      "text/plain": [
       "<AxesSubplot:>"
      ]
     },
     "execution_count": 91,
     "metadata": {},
     "output_type": "execute_result"
    },
    {
     "data": {
      "image/png": "[encoded data removed]",
      "text/plain": [
       "<Figure size 720x504 with 2 Axes>"
      ]
     },
     "metadata": {
      "needs_background": "light"
     },
     "output_type": "display_data"
    }
   ],
   "source": [
    "df_cm = pd.DataFrame(confusion_matrix(y_test, y_pred_class), index = [0,1],columns = [0,1])\n",
    "\n",
    "\n",
    "# TN FP\n",
    "# FN TP\n",
    "plt.figure(figsize = (10,7))\n",
    "sns.heatmap(df_cm, annot=True)"
   ]
  },
  {
   "cell_type": "markdown",
   "id": "alike-remains",
   "metadata": {},
   "source": [
    "## Fifth model -> MLP\n",
    "\n",
    "I'll Fine tune four parameters of MLP:\n",
    "\n",
    "- hidden_layer_sizes: o tamanho das camadas hidden\n",
    "- alpha: parametro de regularização\n",
    "- activation: função de ativação"
   ]
  },
  {
   "cell_type": "code",
   "execution_count": 92,
   "id": "future-concentrate",
   "metadata": {},
   "outputs": [
    {
     "name": "stdout",
     "output_type": "stream",
     "text": [
      "Training time: 8.805759191513062s\n"
     ]
    }
   ],
   "source": [
    "from sklearn.neural_network import MLPClassifier\n",
    "mlp = MLPClassifier(max_iter=100000)\n",
    "\n",
    "params = {\n",
    "    'hidden_layer_sizes': [(50,50,50), (50,100,50), (100,)],\n",
    "    'activation': ['tanh', 'relu'],\n",
    "    'alpha': [0.0001, 0.05],\n",
    "}\n",
    "\n",
    "gs = GridSearchCV(estimator=mlp, param_grid=params)\n",
    "start = time.time()\n",
    "gs.fit(X_train_std, y_train)\n",
    "stop = time.time()\n",
    "print(f\"Training time: {stop - start}s\")\n",
    "tt_mlp = stop-start"
   ]
  },
  {
   "cell_type": "code",
   "execution_count": 93,
   "id": "massive-forest",
   "metadata": {},
   "outputs": [
    {
     "data": {
      "text/plain": [
       "MLPClassifier(alpha=0.05, hidden_layer_sizes=(50, 100, 50), max_iter=100000)"
      ]
     },
     "execution_count": 93,
     "metadata": {},
     "output_type": "execute_result"
    }
   ],
   "source": [
    "mlp = gs.best_estimator_\n",
    "mlp.fit(X_train_std, y_train)"
   ]
  },
  {
   "cell_type": "code",
   "execution_count": 94,
   "id": "electronic-stylus",
   "metadata": {},
   "outputs": [],
   "source": [
    "y_pred_class = mlp.predict(X_test_std)"
   ]
  },
  {
   "cell_type": "code",
   "execution_count": 95,
   "id": "stone-negotiation",
   "metadata": {},
   "outputs": [
    {
     "name": "stdout",
     "output_type": "stream",
     "text": [
      "f1 score: 0.8400000000000001\n",
      "precision: 0.875\n",
      "recall: 0.8076923076923077\n",
      "accuracy 0.8490566037735849\n"
     ]
    }
   ],
   "source": [
    "accuracy = accuracy_score(y_test, y_pred_class)\n",
    "recall = recall_score(y_test, y_pred_class, average='binary', pos_label='negative')\n",
    "precision = precision_score(y_test, y_pred_class,  average='binary', pos_label='negative')\n",
    "f1 = f1_score(y_test, y_pred_class,  average='binary', pos_label='negative')\n",
    "acc_mlp = (accuracy, recall, precision, f1)\n",
    "\n",
    "print('f1 score:', f1)\n",
    "print('precision:', precision)\n",
    "print('recall:', recall)\n",
    "print('accuracy', accuracy)"
   ]
  },
  {
   "cell_type": "code",
   "execution_count": 96,
   "id": "genuine-brazil",
   "metadata": {
    "scrolled": true
   },
   "outputs": [
    {
     "data": {
      "text/plain": [
       "<AxesSubplot:>"
      ]
     },
     "execution_count": 96,
     "metadata": {},
     "output_type": "execute_result"
    },
    {
     "data": {
      "image/png": "[encoded data removed]",
      "text/plain": [
       "<Figure size 720x504 with 2 Axes>"
      ]
     },
     "metadata": {
      "needs_background": "light"
     },
     "output_type": "display_data"
    }
   ],
   "source": [
    "df_cm = pd.DataFrame(confusion_matrix(y_test, y_pred_class), index = [0,1],columns = [0,1])\n",
    "\n",
    "\n",
    "# TN FP\n",
    "# FN TP\n",
    "plt.figure(figsize = (10,7))\n",
    "sns.heatmap(df_cm, annot=True)"
   ]
  },
  {
   "cell_type": "markdown",
   "id": "sharing-rouge",
   "metadata": {},
   "source": [
    "# Model comparision"
   ]
  },
  {
   "cell_type": "code",
   "execution_count": 97,
   "id": "limited-tampa",
   "metadata": {
    "scrolled": true
   },
   "outputs": [
    {
     "data": {
      "text/plain": [
       "<BarContainer object of 5 artists>"
      ]
     },
     "execution_count": 97,
     "metadata": {},
     "output_type": "execute_result"
    },
    {
     "data": {
      "image/png": "[encoded data removed]",
      "text/plain": [
       "<Figure size 1080x576 with 1 Axes>"
      ]
     },
     "metadata": {
      "needs_background": "light"
     },
     "output_type": "display_data"
    }
   ],
   "source": [
    "# Training time\n",
    "\n",
    "tts = [tt_gnb, tt_lr, tt_mlp, tt_rf, tt_svm]\n",
    "models = ['Gaussian NB', 'Log Reg', 'MLP', 'Random Forest', 'SVM']\n",
    "\n",
    "plt.figure(figsize=(15,8))\n",
    "plt.bar(models, tts, color=list('rgbyk'))"
   ]
  },
  {
   "cell_type": "code",
   "execution_count": 118,
   "id": "underlying-validation",
   "metadata": {
    "scrolled": true
   },
   "outputs": [
    {
     "data": {
      "text/plain": [
       "<AxesSubplot:>"
      ]
     },
     "execution_count": 118,
     "metadata": {},
     "output_type": "execute_result"
    },
    {
     "data": {
      "image/png": "[encoded data removed]",
      "text/plain": [
       "<Figure size 1080x576 with 1 Axes>"
      ]
     },
     "metadata": {
      "needs_background": "light"
     },
     "output_type": "display_data"
    }
   ],
   "source": [
    "stats = ['accuracy', 'recall', 'precision', 'f1']\n",
    "df_stats = pd.DataFrame(accs, index = models, columns=stats)\n",
    "df_stats.plot(kind='bar', figsize=(15,8))"
   ]
  },
  {
   "cell_type": "code",
   "execution_count": null,
   "id": "accredited-stanford",
   "metadata": {},
   "outputs": [],
   "source": []
  },
  {
   "cell_type": "code",
   "execution_count": null,
   "id": "still-dining",
   "metadata": {},
   "outputs": [],
   "source": []
  },
  {
   "cell_type": "code",
   "execution_count": null,
   "id": "mighty-growth",
   "metadata": {},
   "outputs": [],
   "source": []
  },
  {
   "cell_type": "code",
   "execution_count": null,
   "id": "pacific-labor",
   "metadata": {},
   "outputs": [],
   "source": []
  }
 ],
 "metadata": {
  "kernelspec": {
   "display_name": "Python 3",
   "language": "python",
   "name": "python3"
  },
  "language_info": {
   "codemirror_mode": {
    "name": "ipython",
    "version": 3
   },
   "file_extension": ".py",
   "mimetype": "text/x-python",
   "name": "python",
   "nbconvert_exporter": "python",
   "pygments_lexer": "ipython3",
   "version": "3.7.6"
  }
 },
 "nbformat": 4,
 "nbformat_minor": 5
}
