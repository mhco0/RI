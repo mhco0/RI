{
 "cells": [
  {
   "cell_type": "code",
   "execution_count": 25,
   "id": "expired-society",
   "metadata": {},
   "outputs": [],
   "source": [
    "#imports\n",
    "import pickle\n",
    "from bs4 import BeautifulSoup\n",
    "import json\n",
    "import re\n",
    "import unidecode"
   ]
  },
  {
   "cell_type": "code",
   "execution_count": 23,
   "id": "offensive-coverage",
   "metadata": {},
   "outputs": [
    {
     "name": "stderr",
     "output_type": "stream",
     "text": [
      "[nltk_data] Downloading package punkt to /home/sergio/nltk_data...\n",
      "[nltk_data]   Package punkt is already up-to-date!\n",
      "[nltk_data] Downloading package stopwords to /home/sergio/nltk_data...\n",
      "[nltk_data]   Package stopwords is already up-to-date!\n"
     ]
    }
   ],
   "source": [
    "#Remove stopwords\n",
    "import nltk\n",
    "nltk.download('punkt')\n",
    "from nltk.tokenize import word_tokenize\n",
    "\n",
    "nltk.download('stopwords')\n",
    "from nltk.corpus import stopwords"
   ]
  },
  {
   "cell_type": "code",
   "execution_count": 3,
   "id": "gothic-habitat",
   "metadata": {},
   "outputs": [],
   "source": [
    "# import bag of words\n",
    "bow = pickle.load(open(\"bow.pkl\", \"rb\"))"
   ]
  },
  {
   "cell_type": "code",
   "execution_count": 6,
   "id": "stock-pollution",
   "metadata": {},
   "outputs": [],
   "source": [
    "# import random forest classifier\n",
    "model = pickle.load(open(\"model.pkl\", \"rb\"))"
   ]
  },
  {
   "cell_type": "code",
   "execution_count": 11,
   "id": "religious-undergraduate",
   "metadata": {},
   "outputs": [],
   "source": [
    "#open file to predict\n",
    "f = open('17')\n",
    "data = json.load(f)"
   ]
  },
  {
   "cell_type": "code",
   "execution_count": 15,
   "id": "thousand-tension",
   "metadata": {},
   "outputs": [],
   "source": [
    "#read html\n",
    "html = data['content']"
   ]
  },
  {
   "cell_type": "code",
   "execution_count": 19,
   "id": "confirmed-rough",
   "metadata": {},
   "outputs": [],
   "source": [
    "#parse html\n",
    "soup = BeautifulSoup(html)\n",
    "text = []\n",
    "for script in soup([\"script\", \"style\"]):\n",
    "        script.extract()    # rip it out\n",
    "text.append(soup.get_text())"
   ]
  },
  {
   "cell_type": "code",
   "execution_count": 21,
   "id": "fourth-pepper",
   "metadata": {},
   "outputs": [],
   "source": [
    "#change characters\n",
    "text = [unidecode.unidecode(s) for s in text]"
   ]
  },
  {
   "cell_type": "code",
   "execution_count": 22,
   "id": "improving-magic",
   "metadata": {},
   "outputs": [],
   "source": [
    "#Substitute point and go to lower case\n",
    "text = [re.sub('[^A-Za-z]', ' ', s) for s in text]\n",
    "text = [s.lower() for s in text]"
   ]
  },
  {
   "cell_type": "code",
   "execution_count": 26,
   "id": "heated-house",
   "metadata": {},
   "outputs": [],
   "source": [
    "#tokenize\n",
    "data = []\n",
    "for s in text:\n",
    "    tokenized_text = word_tokenize(s)\n",
    "    for word in tokenized_text:\n",
    "        if word in stopwords.words('portuguese'):\n",
    "            tokenized_text.remove(word)\n",
    "        \n",
    "    s_text = \" \".join(tokenized_text)\n",
    "    data.append(s_text)"
   ]
  },
  {
   "cell_type": "code",
   "execution_count": 30,
   "id": "premier-baking",
   "metadata": {},
   "outputs": [],
   "source": [
    "#apply bag of words\n",
    "X = bow.transform(data).toarray()"
   ]
  },
  {
   "cell_type": "code",
   "execution_count": 31,
   "id": "quarterly-period",
   "metadata": {},
   "outputs": [
    {
     "data": {
      "text/plain": [
       "array(['negative'], dtype=object)"
      ]
     },
     "execution_count": 31,
     "metadata": {},
     "output_type": "execute_result"
    }
   ],
   "source": [
    "#predict\n",
    "model.predict(X)"
   ]
  },
  {
   "cell_type": "code",
   "execution_count": null,
   "id": "portuguese-counter",
   "metadata": {},
   "outputs": [],
   "source": []
  }
 ],
 "metadata": {
  "kernelspec": {
   "display_name": "Python 3",
   "language": "python",
   "name": "python3"
  },
  "language_info": {
   "codemirror_mode": {
    "name": "ipython",
    "version": 3
   },
   "file_extension": ".py",
   "mimetype": "text/x-python",
   "name": "python",
   "nbconvert_exporter": "python",
   "pygments_lexer": "ipython3",
   "version": "3.7.6"
  }
 },
 "nbformat": 4,
 "nbformat_minor": 5
}
